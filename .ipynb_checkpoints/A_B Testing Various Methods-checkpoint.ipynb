{
 "cells": [
  {
   "cell_type": "code",
   "execution_count": 26,
   "metadata": {
    "collapsed": true
   },
   "outputs": [],
   "source": [
    "import pandas as pd\n",
    "import numpy as np\n",
    "import matplotlib.pyplot as plt\n",
    "import seaborn as sns\n",
    "\n",
    "%matplotlib inline"
   ]
  },
  {
   "cell_type": "markdown",
   "metadata": {},
   "source": [
    "Let's say we have two versions of the same advertisement that we want to display to customers.\n",
    "\n",
    "We have no idea what version of the ad is better so we decide to test it. We show some customers one and others the other.\n",
    "\n",
    "Below I have a simulated dataset of the test results."
   ]
  },
  {
   "cell_type": "code",
   "execution_count": 3,
   "metadata": {},
   "outputs": [
    {
     "data": {
      "text/html": [
       "<div>\n",
       "<style scoped>\n",
       "    .dataframe tbody tr th:only-of-type {\n",
       "        vertical-align: middle;\n",
       "    }\n",
       "\n",
       "    .dataframe tbody tr th {\n",
       "        vertical-align: top;\n",
       "    }\n",
       "\n",
       "    .dataframe thead th {\n",
       "        text-align: right;\n",
       "    }\n",
       "</style>\n",
       "<table border=\"1\" class=\"dataframe\">\n",
       "  <thead>\n",
       "    <tr style=\"text-align: right;\">\n",
       "      <th></th>\n",
       "      <th>advertisement_id</th>\n",
       "      <th>action</th>\n",
       "    </tr>\n",
       "  </thead>\n",
       "  <tbody>\n",
       "    <tr>\n",
       "      <th>0</th>\n",
       "      <td>B</td>\n",
       "      <td>1</td>\n",
       "    </tr>\n",
       "    <tr>\n",
       "      <th>1</th>\n",
       "      <td>B</td>\n",
       "      <td>1</td>\n",
       "    </tr>\n",
       "    <tr>\n",
       "      <th>2</th>\n",
       "      <td>A</td>\n",
       "      <td>0</td>\n",
       "    </tr>\n",
       "    <tr>\n",
       "      <th>3</th>\n",
       "      <td>B</td>\n",
       "      <td>0</td>\n",
       "    </tr>\n",
       "    <tr>\n",
       "      <th>4</th>\n",
       "      <td>A</td>\n",
       "      <td>1</td>\n",
       "    </tr>\n",
       "  </tbody>\n",
       "</table>\n",
       "</div>"
      ],
      "text/plain": [
       "  advertisement_id  action\n",
       "0                B       1\n",
       "1                B       1\n",
       "2                A       0\n",
       "3                B       0\n",
       "4                A       1"
      ]
     },
     "execution_count": 3,
     "metadata": {},
     "output_type": "execute_result"
    }
   ],
   "source": [
    "ads = pd.read_csv(\"advertisement_clicks.csv\")\n",
    "ads.head()"
   ]
  },
  {
   "cell_type": "markdown",
   "metadata": {},
   "source": [
    "An action of \"1\" means the ad was clicked while \"0\" means it was not clicked. The rows of the dataset represent the views/impressions of the ad.\n",
    "\n",
    "Below we will explore various methods for evaluating what ad version is better."
   ]
  },
  {
   "cell_type": "markdown",
   "metadata": {},
   "source": [
    "## t-Test\n",
    "\n",
    "A t-Test compares the means of two groups to see if there is a statistically significant difference between them. I will not go into all the details, caveats, and assumptions of this test, but they are [here](https://en.wikipedia.org/wiki/Student%27s_t-test) if you need to learn more. "
   ]
  },
  {
   "cell_type": "code",
   "execution_count": 10,
   "metadata": {},
   "outputs": [
    {
     "name": "stdout",
     "output_type": "stream",
     "text": [
      "Average number of clicks for ad A 0.304 \n",
      "Average number of clicks for ad B 0.372\n"
     ]
    }
   ],
   "source": [
    "#First, extract an array of the click actions for both groups\n",
    "a = ads[ads['advertisement_id'] == 'A']['action']\n",
    "b = ads[ads['advertisement_id'] == 'B']['action']\n",
    "print('Average number of clicks for ad A {} \\nAverage number of clicks for ad B {}'.format(a.mean(), b.mean()))"
   ]
  },
  {
   "cell_type": "markdown",
   "metadata": {},
   "source": [
    "Ad version B received more clicks on average. We'll do a t-Test below to see if this difference in clicks is in fact legit or just noise."
   ]
  },
  {
   "cell_type": "code",
   "execution_count": 12,
   "metadata": {},
   "outputs": [
    {
     "data": {
      "text/plain": [
       "Ttest_indResult(statistic=-3.2211732138019786, pvalue=0.0012972410374001632)"
      ]
     },
     "execution_count": 12,
     "metadata": {},
     "output_type": "execute_result"
    }
   ],
   "source": [
    "#Import necessary function\n",
    "#This function is easy to implement but we will not do that here\n",
    "from scipy.stats import ttest_ind\n",
    "\n",
    "ttest_ind(a,b, equal_var = False)"
   ]
  },
  {
   "cell_type": "markdown",
   "metadata": {},
   "source": [
    "If we are working with a 5% sigificance level, then the p-value suggests that there is indeed a difference in the mean number of clicks for both ads. Ad version B wins here."
   ]
  },
  {
   "cell_type": "markdown",
   "metadata": {},
   "source": [
    "## Chi-squared Test\n",
    "\n",
    "A Chi-squared test is used to test for independence between two groups. Mathematically, 5/10, 50/100, and 500/1000 are the same value. Statiscally, they are **probably** different. 5 out of 10 people clicking on an ad is not the same, statistically, as 500/1000 clicking ([Law of Large Numbers](https://en.wikipedia.org/wiki/Law_of_large_numbers) anyone?).\n",
    "\n",
    "In this case, the Chi-squared test is almost redundant because the data is binary and so the means and click through proportions are the same. We will still go ahead to perform the Chi-squared test to illustrate contingency tables."
   ]
  },
  {
   "cell_type": "code",
   "execution_count": 18,
   "metadata": {
    "collapsed": true
   },
   "outputs": [],
   "source": [
    "#import necessary library\n",
    "from scipy.stats import chi2_contingency\n",
    "\n",
    "#define variables for building a chi-sqaure contigency table for both categories\n",
    "\n",
    "##Ad A\n",
    "ad_a_clicked = a.sum()\n",
    "ad_a_notclicked = a.shape[0] - ad_a_clicked\n",
    "\n",
    "##Ad B\n",
    "ad_b_clicked = b.sum()\n",
    "ad_b_notclicked = b.shape[0] - ad_b_clicked\n",
    "\n",
    "#Define contingency table\n",
    "table = np.array([[ad_a_clicked, ad_a_notclicked], [ad_b_clicked, ad_b_notclicked]])"
   ]
  },
  {
   "cell_type": "code",
   "execution_count": 22,
   "metadata": {},
   "outputs": [
    {
     "data": {
      "text/html": [
       "<div>\n",
       "<style scoped>\n",
       "    .dataframe tbody tr th:only-of-type {\n",
       "        vertical-align: middle;\n",
       "    }\n",
       "\n",
       "    .dataframe tbody tr th {\n",
       "        vertical-align: top;\n",
       "    }\n",
       "\n",
       "    .dataframe thead th {\n",
       "        text-align: right;\n",
       "    }\n",
       "</style>\n",
       "<table border=\"1\" class=\"dataframe\">\n",
       "  <thead>\n",
       "    <tr style=\"text-align: right;\">\n",
       "      <th></th>\n",
       "      <th>Clicked</th>\n",
       "      <th>Not Clicked</th>\n",
       "    </tr>\n",
       "  </thead>\n",
       "  <tbody>\n",
       "    <tr>\n",
       "      <th>Ad A</th>\n",
       "      <td>304</td>\n",
       "      <td>696</td>\n",
       "    </tr>\n",
       "    <tr>\n",
       "      <th>Ad B</th>\n",
       "      <td>372</td>\n",
       "      <td>628</td>\n",
       "    </tr>\n",
       "  </tbody>\n",
       "</table>\n",
       "</div>"
      ],
      "text/plain": [
       "      Clicked  Not Clicked\n",
       "Ad A      304          696\n",
       "Ad B      372          628"
      ]
     },
     "execution_count": 22,
     "metadata": {},
     "output_type": "execute_result"
    }
   ],
   "source": [
    "pd.DataFrame({'Clicked':table[:,0],'Not Clicked':table[:,1]}, index = ['Ad A', 'Ad B'])"
   ]
  },
  {
   "cell_type": "code",
   "execution_count": 23,
   "metadata": {},
   "outputs": [
    {
     "data": {
      "text/plain": [
       "'p-value = 0.0013069502732125406'"
      ]
     },
     "execution_count": 23,
     "metadata": {},
     "output_type": "execute_result"
    }
   ],
   "source": [
    "#chi-square test \n",
    "p_value = chi2_contingency(table, correction=False)[1]\n",
    "'p-value = {}'.format(p_value)"
   ]
  },
  {
   "cell_type": "markdown",
   "metadata": {},
   "source": [
    "The p-value is the same as that from the t-Test we performed above. We come to the same conclusion. Ad B wins."
   ]
  },
  {
   "cell_type": "markdown",
   "metadata": {},
   "source": [
    "Let's look at a plot of clicks before we move on to our next strategy."
   ]
  },
  {
   "cell_type": "code",
   "execution_count": 32,
   "metadata": {},
   "outputs": [
    {
     "data": {
      "text/plain": [
       "<matplotlib.text.Text at 0x10ab29a90>"
      ]
     },
     "execution_count": 32,
     "metadata": {},
     "output_type": "execute_result"
    },
    {
     "data": {
      "image/png": "[encoded data removed]",
      "text/plain": [
       "<matplotlib.figure.Figure at 0x109ae70f0>"
      ]
     },
     "metadata": {},
     "output_type": "display_data"
    }
   ],
   "source": [
    "sns.set_style(\"darkgrid\")\n",
    "sns.barplot(x = 'advertisement_id', y='action',data = ads)\n",
    "plt.xlabel(\"Ad version\")\n",
    "plt.ylabel(\"Click Through Rate\")"
   ]
  },
  {
   "cell_type": "markdown",
   "metadata": {},
   "source": [
    "## Bayesian Method - Thompson Sampling\n",
    "\n",
    "In simple terms, bayesian inference, derived from bayes theorem, is a method for updating prior belief based on new evidence. If you're into equations, proofs, and definitions, check out the [wikipedia](https://en.wikipedia.org/wiki/Bayesian_inference) page for more info. \n",
    "\n",
    "Thompson Sampling is a class of [bandit algorithms](https://en.wikipedia.org/wiki/Multi-armed_bandit) that hinges on bayesian inference. \n",
    "\n",
    "With Thompson sampling, we do not know what ad is better but we can construct a dynamic model of reality based on  evidence. Evidence being which ad was clicked at every impression.\n",
    "\n",
    "Here is how it works, statistically:\n",
    "\n",
    " > Construct a beta distribution with alpha and beta equals 1 -  <font color=blue>beta (1,1)</font>. This beta distribution is effectively a uniform distribution (uninformative prior). In english, it means we have zero initial idea of what ad version is better.\n",
    "\n",
    " > For each ad version, we will randomly sample this beta distribution and pick the ad with the maximum sample value.\n",
    "\n",
    " > Display the ad we picked above to the customer on our site and record whether the ad was clicked or not.\n",
    "\n",
    " > Update the beta prior with new information. The uninformative prior now becomes - <font color = blue>beta (1 + number of times this ad was clicked, 1 + number of times this ad was not clicked)</font>.\n",
    "\n",
    " > Repeat\n",
    " \n",
    " After a decent number of rounds, the algorithm will converge on the best ad and show it, almost exclusively, to our customers. \n",
    " \n",
    " Again for proofs, definitions, caveats, and more rigorous theory, here is the [wiki](https://en.wikipedia.org/wiki/Thompson_sampling).\n",
    " \n",
    "Our example has a major flaw though. We have pre-generated data even though the algorithm is dynamic and online. The algorithm samples the distributions, picks what ad to display, records clicked/not-clicked data, and updates our priors every time a customer is shown an ad.  This is quite unlike traditional A/B tests, where experiment and analysis are done in separate time intervals.\n",
    "\n",
    "It will be complicated to demonstrate Thompson sampling in it's real life implementation. For simplicity's sake, we will do it * ex post *. "
   ]
  },
  {
   "cell_type": "code",
   "execution_count": 54,
   "metadata": {
    "collapsed": true
   },
   "outputs": [],
   "source": [
    "#Thompson Sampling algorithm\n",
    "\n",
    "num_rounds = 2000 #number of rounds\n",
    "ad_versions = 2\n",
    "ad_to_display = []\n",
    "number_of_times_clicked = [0,0]\n",
    "number_of_times_notclicked = [0,0]\n",
    "\n",
    "for n in range(0,num_rounds):\n",
    "    ad_index = 0\n",
    "    max_random_sample = 0\n",
    "    ad = ''\n",
    "    for i in range(0,ad_versions):\n",
    "        random_beta = np.random.beta(number_of_times_clicked[i] + 1, number_of_times_notclicked[i] + 1 )\n",
    "        if random_beta > max_random_sample:\n",
    "            max_random_sample = random_beta\n",
    "            ad_index = i\n",
    "    if ad_index == 0:\n",
    "        ad = 'A'\n",
    "    else:\n",
    "        ad = 'B'\n",
    "        \n",
    "    ad_to_display.append(ad)\n",
    "    \n",
    "    if (ads.iloc[n,0] == ad):\n",
    "        ad_clicked = ads.iloc[n,1]\n",
    "        \n",
    "    else: \n",
    "        ad_clicked = 0\n",
    "        \n",
    "    if ad_clicked == 1:\n",
    "        number_of_times_clicked[ad_index] += 1\n",
    "    else:\n",
    "        number_of_times_notclicked[ad_index] += 1\n",
    "    "
   ]
  },
  {
   "cell_type": "code",
   "execution_count": 63,
   "metadata": {},
   "outputs": [
    {
     "data": {
      "text/plain": [
       "Counter({'A': 433, 'B': 1567})"
      ]
     },
     "execution_count": 63,
     "metadata": {},
     "output_type": "execute_result"
    }
   ],
   "source": [
    "#convert list of ads_to_display to dictionary\n",
    "\n",
    "from collections import Counter\n",
    "ads_displayed_dict = Counter((ad_to_display))"
   ]
  },
  {
   "cell_type": "code",
   "execution_count": 69,
   "metadata": {},
   "outputs": [
    {
     "data": {
      "text/plain": [
       "<matplotlib.axes._subplots.AxesSubplot at 0x10b1feeb8>"
      ]
     },
     "execution_count": 69,
     "metadata": {},
     "output_type": "execute_result"
    },
    {
     "data": {
      "image/png": "[encoded data removed]",
      "text/plain": [
       "<matplotlib.figure.Figure at 0x10b1fe550>"
      ]
     },
     "metadata": {},
     "output_type": "display_data"
    }
   ],
   "source": [
    "sns.barplot(x = list(ads_displayed_dict.keys()), y = list(ads_displayed_dict.values()))"
   ]
  },
  {
   "cell_type": "markdown",
   "metadata": {},
   "source": [
    "We see from the plot above that the thompson sampling algorithm learned that ad version B was the better version (getting more clicks) and hence displayed it more than ad version A. \n",
    "\n",
    "This result agrees with the results from our frequentist tests, Ad version B is indeed better than A."
   ]
  }
 ],
 "metadata": {
  "kernelspec": {
   "display_name": "Python 3",
   "language": "python",
   "name": "python3"
  },
  "language_info": {
   "codemirror_mode": {
    "name": "ipython",
    "version": 3
   },
   "file_extension": ".py",
   "mimetype": "text/x-python",
   "name": "python",
   "nbconvert_exporter": "python",
   "pygments_lexer": "ipython3",
   "version": "3.6.3"
  }
 },
 "nbformat": 4,
 "nbformat_minor": 2
}
